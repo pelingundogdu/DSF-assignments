{
 "cells": [
  {
   "cell_type": "markdown",
   "metadata": {},
   "source": [
    "![BTS](img/Logo-BTS.jpg)\n",
    "\n",
    "# Session 15: Advanced Visualization\n",
    "\n",
    "### Juan Luis Cano Rodríguez <juan.cano@bts.tech> - Data Science Foundations (2018-11-16)\n",
    "\n",
    "Open this notebook in Google Colaboratory: [![Open in Colab](https://colab.research.google.com/assets/colab-badge.svg)](https://colab.research.google.com/github/Juanlu001/bts-mbds-data-science-foundations/blob/master/sessions/15-Advanced-Visualization.ipynb)"
   ]
  },
  {
   "cell_type": "markdown",
   "metadata": {},
   "source": [
    "# Assignment 3 - Interactive Plotly\n",
    "\n",
    "### PELIN GUNDOGDU"
   ]
  },
  {
   "cell_type": "markdown",
   "metadata": {},
   "source": [
    "## Exercise 1: \"Gapminder\" interactive visualization\n",
    "\n",
    "We will reproduce an example similar to this:"
   ]
  },
  {
   "cell_type": "markdown",
   "metadata": {},
   "source": [
    "from IPython.display import YouTubeVideo\n",
    "YouTubeVideo(\"jbkSRLYSojo\", width=800, height=600)"
   ]
  },
  {
   "cell_type": "markdown",
   "metadata": {},
   "source": [
    "1. Load all the datasets in the `data/gapminder` directory, indexing them by `Country`.\n",
    "2. Create a function that receives a `year` _as an integer_ and returns a new dataframe with `Country` as the index and the columns `Fertility`, `Life expectancy`, `Population` and `Group`.\n",
    "3. Create a Plotly `FigureWidget` and visualize a scatter plot of `Life expectancy` vs `Fertility`, using the `Population` as bubble size (you will need some scaling) and coloring by `Group`. _Hint: it will be easier to do as many scatters as regions_\n",
    "4. Decorate the figure with proper X and Y axis labels, a title, a big text showing the year, and a legend (if not present). _Note: The legend might not show the colors_\n",
    "5. Create a function `update_year` that receives a `year` _as an integer_ and updates the data of the existing figure with the values from the selected year. _Note: The update might not be very efficient_\n",
    "6. Create an horizontal slider that ranges from the minimum to the maximum year\n",
    "7. Bind the `update_year` function to changes in the horizontal slider and use it to interactively change the plot"
   ]
  },
  {
   "cell_type": "markdown",
   "metadata": {},
   "source": [
    "1. Load all the datasets in the data/gapminder directory, indexing them by Country."
   ]
  },
  {
   "cell_type": "code",
   "execution_count": 1,
   "metadata": {},
   "outputs": [],
   "source": [
    "import pandas as pd\n",
    "import numpy as np\n",
    "from plotly import graph_objs as go\n",
    "from ipywidgets import interact"
   ]
  },
  {
   "cell_type": "code",
   "execution_count": 2,
   "metadata": {},
   "outputs": [],
   "source": [
    "fertility = pd.read_csv(\"data/gapminder/fertility.csv\", index_col=\"Country\")\n",
    "life_exp = pd.read_csv(\"data/gapminder/life_expectancy.csv\", index_col=\"Country\")\n",
    "population = pd.read_csv(\"data/gapminder/population.csv\", index_col=\"Country\")\n",
    "region = pd.read_csv(\"data/gapminder/regions.csv\", index_col=\"Country\")"
   ]
  },
  {
   "cell_type": "markdown",
   "metadata": {},
   "source": [
    "fertility.head()\n",
    "life_exp.head()\n",
    "population.head()\n",
    "region.head()"
   ]
  },
  {
   "cell_type": "markdown",
   "metadata": {},
   "source": [
    "2. Create a function that receives a `year` _as an integer_ and returns a new dataframe with `Country` as the index and the columns `Fertility`, `Life expectancy`, `Population` and `Group`."
   ]
  },
  {
   "cell_type": "code",
   "execution_count": 3,
   "metadata": {},
   "outputs": [],
   "source": [
    "def country_year(year):\n",
    "     return pd.DataFrame({\"Population\": population[str(year)],\n",
    "                  \"Life expectancy\" : life_exp[str(year)],\n",
    "                  \"Fertility\" : fertility[str(year)],\n",
    "                  \"Group\" : region[\"Group\"]})\n",
    "\n",
    "#country_year(1989)\n",
    "#df = country_year(1964)\n",
    "#df.head()"
   ]
  },
  {
   "cell_type": "markdown",
   "metadata": {},
   "source": [
    "3. Create a Plotly `FigureWidget` and visualize a scatter plot of `Life expectancy` vs `Fertility`, using the `Population` as bubble size (you will need some scaling) and coloring by `Group`. _Hint: it will be easier to do as many scatters as regions_\n",
    "4. Decorate the figure with proper X and Y axis labels, a title, a big text showing the year, and a legend (if not present). _Note: The legend might not show the colors_\n",
    "5. Create a function `update_year` that receives a `year` _as an integer_ and updates the data of the existing figure with the values from the selected year. _Note: The update might not be very efficient_"
   ]
  },
  {
   "cell_type": "code",
   "execution_count": 4,
   "metadata": {},
   "outputs": [],
   "source": [
    "# Question 5 - update_year function\n",
    "fig = go.FigureWidget()\n",
    "fig.layout.xaxis.title = \"Fertility\"\n",
    "fig.layout.yaxis.title = \"Life expectancy\""
   ]
  },
  {
   "cell_type": "code",
   "execution_count": 5,
   "metadata": {},
   "outputs": [],
   "source": [
    "# Question 5 - update_year function\n",
    "def update_year(year):\n",
    "    fig.data = []\n",
    "    fig.layout.title = \"Fertility vs Life expectancy - \" + str(year)\n",
    "    df_year = country_year(year)\n",
    "\n",
    "    \n",
    "# Question 3 -  a scatter plot of Life expectancy vs Fertility, the Population as bubble size and coloring by Group\n",
    "    for group_name, sub_df in df_year.groupby(\"Group\"):\n",
    "        sc = fig.add_scatter(\n",
    "            x=sub_df[\"Fertility\"], \n",
    "            y=sub_df[\"Life expectancy\"], \n",
    "            mode=\"markers\",\n",
    "            marker={\n",
    "                \"size\" : np.sqrt(sub_df[\"Population\"].fillna(1)) / 400\n",
    "            },\n",
    "            name=group_name\n",
    "        )\n",
    "#Question 4 - proper X and Y axis labels, a title, a big text showing the year, and a legend\n",
    "    \n",
    "    return fig"
   ]
  },
  {
   "cell_type": "markdown",
   "metadata": {},
   "source": [
    "6. Create an horizontal slider that ranges from the minimum to the maximum year"
   ]
  },
  {
   "cell_type": "code",
   "execution_count": 6,
   "metadata": {},
   "outputs": [],
   "source": [
    "import ipywidgets as widgets\n",
    "\n",
    "year_bar = widgets.IntSlider(\n",
    "                value=fertility.columns[0],\n",
    "                min=fertility.columns[0],\n",
    "                max=fertility.columns[-1],\n",
    "                step=1,\n",
    "                description='Year:',\n",
    "                disabled=False,\n",
    "                continuous_update=True,\n",
    "                orientation='horizontal',\n",
    "                readout=True,\n",
    "                readout_format='d'\n",
    ")\n"
   ]
  },
  {
   "cell_type": "markdown",
   "metadata": {},
   "source": [
    "7. Bind the `update_year` function to changes in the horizontal slider and use it to interactively change the plot"
   ]
  },
  {
   "cell_type": "code",
   "execution_count": 7,
   "metadata": {},
   "outputs": [
    {
     "data": {
      "application/vnd.jupyter.widget-view+json": {
       "model_id": "d43bb785752045979c5732d19f4c9db8",
       "version_major": 2,
       "version_minor": 0
      },
      "text/plain": [
       "interactive(children=(IntSlider(value=1964, description='Year:', max=2013, min=1964), Output()), _dom_classes=…"
      ]
     },
     "metadata": {},
     "output_type": "display_data"
    }
   ],
   "source": [
    "@interact(x=year_bar)\n",
    "def h(x):\n",
    "    return(update_year(x))"
   ]
  },
  {
   "cell_type": "code",
   "execution_count": null,
   "metadata": {},
   "outputs": [],
   "source": []
  },
  {
   "cell_type": "code",
   "execution_count": null,
   "metadata": {},
   "outputs": [],
   "source": []
  }
 ],
 "metadata": {
  "kernelspec": {
   "display_name": "Python 3",
   "language": "python",
   "name": "python3"
  },
  "language_info": {
   "codemirror_mode": {
    "name": "ipython",
    "version": 3
   },
   "file_extension": ".py",
   "mimetype": "text/x-python",
   "name": "python",
   "nbconvert_exporter": "python",
   "pygments_lexer": "ipython3",
   "version": "3.7.0"
  }
 },
 "nbformat": 4,
 "nbformat_minor": 2
}
